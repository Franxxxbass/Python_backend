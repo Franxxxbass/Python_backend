{
 "cells": [
  {
   "cell_type": "code",
   "execution_count": 1,
   "id": "e82d4e1d",
   "metadata": {},
   "outputs": [],
   "source": [
    "from taskapp.models import Album"
   ]
  },
  {
   "cell_type": "code",
   "execution_count": 3,
   "id": "8dbe2073",
   "metadata": {},
   "outputs": [],
   "source": [
    "q = Album(title='Superunknown', release_date='1994', rating = '10')"
   ]
  },
  {
   "cell_type": "code",
   "execution_count": 2,
   "id": "809f897c",
   "metadata": {},
   "outputs": [],
   "source": [
    "import os\n",
    "os.environ[\"DJANGO_ALLOW_ASYNC_UNSAFE\"] = \"true\"\n"
   ]
  },
  {
   "cell_type": "code",
   "execution_count": 10,
   "id": "958b0c8b",
   "metadata": {},
   "outputs": [],
   "source": [
    "q.save()"
   ]
  },
  {
   "cell_type": "code",
   "execution_count": 8,
   "id": "8dc98ac8",
   "metadata": {},
   "outputs": [
    {
     "data": {
      "text/plain": [
       "<QuerySet [<Band: Red Hot Chilii Peppers>, <Band: Molesta>, <Band: Jamiroquai>]>"
      ]
     },
     "execution_count": 8,
     "metadata": {},
     "output_type": "execute_result"
    }
   ],
   "source": [
    "Band.objects.all()"
   ]
  },
  {
   "cell_type": "code",
   "execution_count": 16,
   "id": "7c934820",
   "metadata": {},
   "outputs": [
    {
     "data": {
      "text/plain": [
       "<Band: Red Hot Chilii Peppers>"
      ]
     },
     "execution_count": 16,
     "metadata": {},
     "output_type": "execute_result"
    }
   ],
   "source": [
    "c = \n"
   ]
  },
  {
   "cell_type": "code",
   "execution_count": 7,
   "id": "86b9c416",
   "metadata": {},
   "outputs": [],
   "source": [
    "c = Band.objects.create(name='Jamiroquai', year='1992', still_active=\"True\")"
   ]
  },
  {
   "cell_type": "code",
   "execution_count": 7,
   "id": "76cc1975",
   "metadata": {},
   "outputs": [
    {
     "data": {
      "text/plain": [
       "(1, {'taskapp.Album': 1})"
      ]
     },
     "execution_count": 7,
     "metadata": {},
     "output_type": "execute_result"
    }
   ],
   "source": [
    "c.delete()"
   ]
  },
  {
   "cell_type": "code",
   "execution_count": 8,
   "id": "86f510d6",
   "metadata": {},
   "outputs": [
    {
     "data": {
      "text/plain": [
       "<QuerySet [<Album: Superunknown>]>"
      ]
     },
     "execution_count": 8,
     "metadata": {},
     "output_type": "execute_result"
    }
   ],
   "source": [
    "Album.objects.all()"
   ]
  },
  {
   "cell_type": "code",
   "execution_count": 9,
   "id": "1a2aa97c",
   "metadata": {},
   "outputs": [],
   "source": [
    "q = Band(name=\"Red Hot Chilii Peppers\", year='1983', still_active='True')"
   ]
  }
 ],
 "metadata": {
  "kernelspec": {
   "display_name": "Django Shell-Plus",
   "language": "python",
   "name": "django_extensions"
  },
  "language_info": {
   "codemirror_mode": {
    "name": "ipython",
    "version": 3
   },
   "file_extension": ".py",
   "mimetype": "text/x-python",
   "name": "python",
   "nbconvert_exporter": "python",
   "pygments_lexer": "ipython3",
   "version": "3.8.0"
  }
 },
 "nbformat": 4,
 "nbformat_minor": 5
}
