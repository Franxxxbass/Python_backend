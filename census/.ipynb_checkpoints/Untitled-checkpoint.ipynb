{
 "cells": [
  {
   "cell_type": "code",
   "execution_count": 22,
   "id": "fa39178c",
   "metadata": {
    "scrolled": true
   },
   "outputs": [],
   "source": [
    "c = Census.objects.filter(state=\"New York\").exclude(pop2000=True)"
   ]
  },
  {
   "cell_type": "code",
   "execution_count": 13,
   "id": "506eb883",
   "metadata": {},
   "outputs": [
    {
     "name": "stdout",
     "output_type": "stream",
     "text": [
      "50.85521125388816\n"
     ]
    }
   ],
   "source": [
    "print(ile_kobiet['pop2008__sum']/ile_total['pop2008__sum'] * 100)"
   ]
  },
  {
   "cell_type": "code",
   "execution_count": 9,
   "id": "4359fe4b",
   "metadata": {},
   "outputs": [],
   "source": [
    "ile_kobiet = Census.objects.filter(sex=\"F\").aggregate(Sum(\"pop2008\"))"
   ]
  },
  {
   "cell_type": "code",
   "execution_count": 19,
   "id": "83491f93",
   "metadata": {},
   "outputs": [],
   "source": [
    "ile_total_2000 = Census.objects.aggregate(Sum(\"pop2000\"))b"
   ]
  },
  {
   "cell_type": "code",
   "execution_count": 22,
   "id": "79733d67",
   "metadata": {},
   "outputs": [
    {
     "data": {
      "text/plain": [
       "{'pop2000__sum': 285682489}"
      ]
     },
     "execution_count": 22,
     "metadata": {},
     "output_type": "execute_result"
    }
   ],
   "source": [
    "ile_total_2000\n"
   ]
  },
  {
   "cell_type": "code",
   "execution_count": 21,
   "id": "33482ce5",
   "metadata": {},
   "outputs": [
    {
     "ename": "KeyError",
     "evalue": "'pop2000'",
     "output_type": "error",
     "traceback": [
      "\u001b[0;31m---------------------------------------------------------------------------\u001b[0m",
      "\u001b[0;31mKeyError\u001b[0m                                  Traceback (most recent call last)",
      "Input \u001b[0;32mIn [21]\u001b[0m, in \u001b[0;36m<cell line: 1>\u001b[0;34m()\u001b[0m\n\u001b[0;32m----> 1\u001b[0m roznica \u001b[38;5;241m=\u001b[39m \u001b[43mile_total_2000\u001b[49m\u001b[43m[\u001b[49m\u001b[38;5;124;43m'\u001b[39;49m\u001b[38;5;124;43mpop2000\u001b[39;49m\u001b[38;5;124;43m'\u001b[39;49m\u001b[43m]\u001b[49m \u001b[38;5;241m-\u001b[39m ile_total_2008[\u001b[38;5;124m'\u001b[39m\u001b[38;5;124mpop2008\u001b[39m\u001b[38;5;124m'\u001b[39m]\n",
      "\u001b[0;31mKeyError\u001b[0m: 'pop2000'"
     ]
    }
   ],
   "source": [
    "roznica = ile_total_2000['pop2000'] - ile_total_2008['pop2008']"
   ]
  },
  {
   "cell_type": "code",
   "execution_count": 4,
   "id": "3d2e147e",
   "metadata": {},
   "outputs": [],
   "source": [
    "from django.db.models import Sum"
   ]
  },
  {
   "cell_type": "code",
   "execution_count": 6,
   "id": "747a9cd1",
   "metadata": {},
   "outputs": [],
   "source": [
    "pop_sum = Census.objects.aggregate(Sum(\"pop2008\"))\n",
    "\n",
    "\n"
   ]
  },
  {
   "cell_type": "code",
   "execution_count": 7,
   "id": "e23a4a39",
   "metadata": {},
   "outputs": [
    {
     "data": {
      "text/plain": [
       "{'pop2008__sum': 308026875}"
      ]
     },
     "execution_count": 7,
     "metadata": {},
     "output_type": "execute_result"
    }
   ],
   "source": [
    "pop_sum\n"
   ]
  },
  {
   "cell_type": "code",
   "execution_count": null,
   "id": "391af1e1",
   "metadata": {},
   "outputs": [],
   "source": []
  },
  {
   "cell_type": "code",
   "execution_count": 64,
   "id": "489ac677",
   "metadata": {},
   "outputs": [
    {
     "name": "stdout",
     "output_type": "stream",
     "text": [
      "Jaki stan: Florida, Płeć: F, Wiek: 85, Ilu takich: 322186\n",
      "Jaki stan: Florida, Płeć: F, Wiek: 48, Ilu takich: 139760\n",
      "Jaki stan: Florida, Płeć: F, Wiek: 47, Ilu takich: 138381\n",
      "Jaki stan: Florida, Płeć: F, Wiek: 44, Ilu takich: 138328\n",
      "Jaki stan: Florida, Płeć: F, Wiek: 46, Ilu takich: 136722\n",
      "Jaki stan: Florida, Płeć: F, Wiek: 45, Ilu takich: 136657\n",
      "Jaki stan: Florida, Płeć: F, Wiek: 43, Ilu takich: 135509\n",
      "Jaki stan: Florida, Płeć: F, Wiek: 49, Ilu takich: 133818\n",
      "Jaki stan: Florida, Płeć: F, Wiek: 50, Ilu takich: 133607\n",
      "Jaki stan: Florida, Płeć: F, Wiek: 51, Ilu takich: 132320\n",
      "Jaki stan: Florida, Płeć: F, Wiek: 53, Ilu takich: 129149\n",
      "Jaki stan: Florida, Płeć: F, Wiek: 52, Ilu takich: 127850\n",
      "Jaki stan: Florida, Płeć: F, Wiek: 38, Ilu takich: 126120\n",
      "Jaki stan: Florida, Płeć: F, Wiek: 42, Ilu takich: 125231\n",
      "Jaki stan: Florida, Płeć: F, Wiek: 54, Ilu takich: 124079\n",
      "Jaki stan: Florida, Płeć: F, Wiek: 37, Ilu takich: 123676\n",
      "Jaki stan: Florida, Płeć: F, Wiek: 27, Ilu takich: 121723\n",
      "Jaki stan: Florida, Płeć: F, Wiek: 61, Ilu takich: 120818\n",
      "Jaki stan: Florida, Płeć: F, Wiek: 41, Ilu takich: 120533\n",
      "Jaki stan: Florida, Płeć: F, Wiek: 55, Ilu takich: 120377\n",
      "Jaki stan: Florida, Płeć: F, Wiek: 60, Ilu takich: 118791\n",
      "Jaki stan: Florida, Płeć: F, Wiek: 39, Ilu takich: 118436\n",
      "Jaki stan: Florida, Płeć: F, Wiek: 40, Ilu takich: 118364\n",
      "Jaki stan: Florida, Płeć: F, Wiek: 58, Ilu takich: 118163\n",
      "Jaki stan: Florida, Płeć: F, Wiek: 36, Ilu takich: 118067\n",
      "Jaki stan: Florida, Płeć: F, Wiek: 56, Ilu takich: 117778\n",
      "Jaki stan: Florida, Płeć: F, Wiek: 17, Ilu takich: 117383\n",
      "Jaki stan: Florida, Płeć: F, Wiek: 57, Ilu takich: 117201\n",
      "Jaki stan: Florida, Płeć: F, Wiek: 26, Ilu takich: 116802\n",
      "Jaki stan: Florida, Płeć: F, Wiek: 59, Ilu takich: 116460\n",
      "Jaki stan: Florida, Płeć: F, Wiek: 24, Ilu takich: 114759\n",
      "Jaki stan: Florida, Płeć: F, Wiek: 28, Ilu takich: 113799\n",
      "Jaki stan: Florida, Płeć: F, Wiek: 18, Ilu takich: 113733\n",
      "Jaki stan: Florida, Płeć: F, Wiek: 23, Ilu takich: 113527\n",
      "Jaki stan: Florida, Płeć: F, Wiek: 0, Ilu takich: 113205\n",
      "Jaki stan: Florida, Płeć: F, Wiek: 25, Ilu takich: 113190\n",
      "Jaki stan: Florida, Płeć: F, Wiek: 1, Ilu takich: 113133\n",
      "Jaki stan: Florida, Płeć: F, Wiek: 16, Ilu takich: 113005\n",
      "Jaki stan: Florida, Płeć: F, Wiek: 2, Ilu takich: 112272\n",
      "Jaki stan: Florida, Płeć: F, Wiek: 29, Ilu takich: 111734\n",
      "Jaki stan: Florida, Płeć: F, Wiek: 15, Ilu takich: 111069\n",
      "Jaki stan: Florida, Płeć: F, Wiek: 35, Ilu takich: 110527\n",
      "Jaki stan: Florida, Płeć: F, Wiek: 3, Ilu takich: 109917\n",
      "Jaki stan: Florida, Płeć: F, Wiek: 7, Ilu takich: 109771\n",
      "Jaki stan: Florida, Płeć: F, Wiek: 14, Ilu takich: 109340\n",
      "Jaki stan: Florida, Płeć: F, Wiek: 22, Ilu takich: 109238\n",
      "Jaki stan: Florida, Płeć: F, Wiek: 20, Ilu takich: 108456\n",
      "Jaki stan: Florida, Płeć: F, Wiek: 30, Ilu takich: 107973\n",
      "Jaki stan: Florida, Płeć: F, Wiek: 4, Ilu takich: 107962\n",
      "Jaki stan: Florida, Płeć: F, Wiek: 33, Ilu takich: 107256\n",
      "Jaki stan: Florida, Płeć: F, Wiek: 6, Ilu takich: 107067\n",
      "Jaki stan: Florida, Płeć: F, Wiek: 13, Ilu takich: 107018\n",
      "Jaki stan: Florida, Płeć: F, Wiek: 19, Ilu takich: 106850\n",
      "Jaki stan: Florida, Płeć: F, Wiek: 34, Ilu takich: 106743\n",
      "Jaki stan: Florida, Płeć: F, Wiek: 31, Ilu takich: 106631\n",
      "Jaki stan: Florida, Płeć: F, Wiek: 5, Ilu takich: 106341\n",
      "Jaki stan: Florida, Płeć: F, Wiek: 21, Ilu takich: 105653\n",
      "Jaki stan: Florida, Płeć: F, Wiek: 12, Ilu takich: 105172\n",
      "Jaki stan: Florida, Płeć: F, Wiek: 65, Ilu takich: 103739\n",
      "Jaki stan: Florida, Płeć: F, Wiek: 11, Ilu takich: 103409\n",
      "Jaki stan: Florida, Płeć: F, Wiek: 32, Ilu takich: 103243\n",
      "Jaki stan: Florida, Płeć: F, Wiek: 8, Ilu takich: 103109\n",
      "Jaki stan: Florida, Płeć: F, Wiek: 10, Ilu takich: 102544\n",
      "Jaki stan: Florida, Płeć: F, Wiek: 9, Ilu takich: 101034\n",
      "Jaki stan: Florida, Płeć: F, Wiek: 64, Ilu takich: 99557\n",
      "Jaki stan: Florida, Płeć: F, Wiek: 63, Ilu takich: 99112\n",
      "Jaki stan: Florida, Płeć: F, Wiek: 62, Ilu takich: 97150\n",
      "Jaki stan: Florida, Płeć: F, Wiek: 66, Ilu takich: 92972\n",
      "Jaki stan: Florida, Płeć: F, Wiek: 67, Ilu takich: 88221\n",
      "Jaki stan: Florida, Płeć: F, Wiek: 68, Ilu takich: 86622\n",
      "Jaki stan: Georgia, Płeć: F, Wiek: 85, Ilu takich: 86390\n",
      "Jaki stan: Florida, Płeć: F, Wiek: 69, Ilu takich: 81565\n",
      "Jaki stan: Florida, Płeć: F, Wiek: 70, Ilu takich: 80187\n",
      "Jaki stan: Georgia, Płeć: F, Wiek: 37, Ilu takich: 77435\n",
      "Jaki stan: Georgia, Płeć: F, Wiek: 44, Ilu takich: 76120\n",
      "Jaki stan: Georgia, Płeć: F, Wiek: 43, Ilu takich: 75955\n",
      "Jaki stan: Florida, Płeć: F, Wiek: 71, Ilu takich: 75722\n",
      "Jaki stan: Georgia, Płeć: F, Wiek: 38, Ilu takich: 75071\n",
      "Jaki stan: Georgia, Płeć: F, Wiek: 28, Ilu takich: 74971\n",
      "Jaki stan: Georgia, Płeć: F, Wiek: 46, Ilu takich: 74691\n",
      "Jaki stan: Florida, Płeć: F, Wiek: 72, Ilu takich: 74602\n",
      "Jaki stan: Georgia, Płeć: F, Wiek: 48, Ilu takich: 74452\n",
      "Jaki stan: Florida, Płeć: F, Wiek: 73, Ilu takich: 74443\n",
      "Jaki stan: Georgia, Płeć: F, Wiek: 45, Ilu takich: 74246\n",
      "Jaki stan: Georgia, Płeć: F, Wiek: 47, Ilu takich: 74186\n",
      "Jaki stan: Georgia, Płeć: F, Wiek: 36, Ilu takich: 73496\n",
      "Jaki stan: Georgia, Płeć: F, Wiek: 1, Ilu takich: 73490\n",
      "Jaki stan: Georgia, Płeć: F, Wiek: 27, Ilu takich: 72979\n",
      "Jaki stan: Georgia, Płeć: F, Wiek: 7, Ilu takich: 72870\n",
      "Jaki stan: Georgia, Płeć: F, Wiek: 0, Ilu takich: 72821\n",
      "Jaki stan: Georgia, Płeć: F, Wiek: 2, Ilu takich: 72132\n",
      "Jaki stan: Georgia, Płeć: F, Wiek: 42, Ilu takich: 71987\n",
      "Jaki stan: Georgia, Płeć: F, Wiek: 39, Ilu takich: 71819\n",
      "Jaki stan: Georgia, Płeć: F, Wiek: 4, Ilu takich: 71668\n",
      "Jaki stan: Georgia, Płeć: F, Wiek: 3, Ilu takich: 71143\n",
      "Jaki stan: Georgia, Płeć: F, Wiek: 49, Ilu takich: 71125\n",
      "Jaki stan: Georgia, Płeć: F, Wiek: 41, Ilu takich: 70479\n",
      "Jaki stan: Georgia, Płeć: F, Wiek: 50, Ilu takich: 70462\n",
      "Jaki stan: Georgia, Płeć: F, Wiek: 6, Ilu takich: 70433\n",
      "Jaki stan: Georgia, Płeć: F, Wiek: 5, Ilu takich: 70431\n",
      "Jaki stan: Georgia, Płeć: F, Wiek: 35, Ilu takich: 69918\n",
      "Jaki stan: Florida, Płeć: F, Wiek: 75, Ilu takich: 69805\n",
      "Jaki stan: Georgia, Płeć: F, Wiek: 51, Ilu takich: 69778\n",
      "Jaki stan: Georgia, Płeć: F, Wiek: 29, Ilu takich: 69671\n",
      "Jaki stan: Georgia, Płeć: F, Wiek: 26, Ilu takich: 69405\n",
      "Jaki stan: Georgia, Płeć: F, Wiek: 17, Ilu takich: 69235\n",
      "Jaki stan: Georgia, Płeć: F, Wiek: 40, Ilu takich: 69187\n",
      "Jaki stan: Florida, Płeć: F, Wiek: 77, Ilu takich: 68956\n",
      "Jaki stan: Georgia, Płeć: F, Wiek: 16, Ilu takich: 68750\n",
      "Jaki stan: Florida, Płeć: F, Wiek: 78, Ilu takich: 68699\n",
      "Jaki stan: Georgia, Płeć: F, Wiek: 15, Ilu takich: 68574\n",
      "Jaki stan: Florida, Płeć: F, Wiek: 76, Ilu takich: 68461\n",
      "Jaki stan: Florida, Płeć: F, Wiek: 74, Ilu takich: 68411\n",
      "Jaki stan: Georgia, Płeć: F, Wiek: 33, Ilu takich: 67448\n",
      "Jaki stan: Georgia, Płeć: F, Wiek: 30, Ilu takich: 67259\n",
      "Jaki stan: Georgia, Płeć: F, Wiek: 8, Ilu takich: 67241\n",
      "Jaki stan: Georgia, Płeć: F, Wiek: 52, Ilu takich: 66980\n",
      "Jaki stan: Georgia, Płeć: F, Wiek: 9, Ilu takich: 66781\n",
      "Jaki stan: Georgia, Płeć: F, Wiek: 34, Ilu takich: 66732\n",
      "Jaki stan: Georgia, Płeć: F, Wiek: 14, Ilu takich: 66729\n",
      "Jaki stan: Georgia, Płeć: F, Wiek: 13, Ilu takich: 66340\n",
      "Jaki stan: Georgia, Płeć: F, Wiek: 53, Ilu takich: 66291\n",
      "Jaki stan: Florida, Płeć: F, Wiek: 79, Ilu takich: 66050\n",
      "Jaki stan: Georgia, Płeć: F, Wiek: 12, Ilu takich: 65997\n",
      "Jaki stan: Georgia, Płeć: F, Wiek: 31, Ilu takich: 65916\n",
      "Jaki stan: Georgia, Płeć: F, Wiek: 11, Ilu takich: 65583\n",
      "Jaki stan: Georgia, Płeć: F, Wiek: 10, Ilu takich: 65338\n",
      "Jaki stan: Florida, Płeć: F, Wiek: 80, Ilu takich: 64696\n",
      "Jaki stan: Georgia, Płeć: F, Wiek: 32, Ilu takich: 64665\n",
      "Jaki stan: Georgia, Płeć: F, Wiek: 18, Ilu takich: 64494\n",
      "Jaki stan: Georgia, Płeć: F, Wiek: 25, Ilu takich: 64397\n",
      "Jaki stan: Georgia, Płeć: F, Wiek: 24, Ilu takich: 64320\n",
      "Jaki stan: Georgia, Płeć: F, Wiek: 23, Ilu takich: 64011\n",
      "Jaki stan: Georgia, Płeć: F, Wiek: 54, Ilu takich: 63620\n",
      "Jaki stan: Georgia, Płeć: F, Wiek: 22, Ilu takich: 62931\n",
      "Jaki stan: Florida, Płeć: F, Wiek: 81, Ilu takich: 62457\n",
      "Jaki stan: Georgia, Płeć: F, Wiek: 19, Ilu takich: 62002\n",
      "Jaki stan: Georgia, Płeć: F, Wiek: 55, Ilu takich: 61021\n",
      "Jaki stan: Georgia, Płeć: F, Wiek: 20, Ilu takich: 60683\n",
      "Jaki stan: Georgia, Płeć: F, Wiek: 21, Ilu takich: 60575\n",
      "Jaki stan: Georgia, Płeć: F, Wiek: 56, Ilu takich: 59459\n",
      "Jaki stan: Florida, Płeć: F, Wiek: 82, Ilu takich: 58314\n",
      "Jaki stan: Georgia, Płeć: F, Wiek: 57, Ilu takich: 58241\n",
      "Jaki stan: Georgia, Płeć: F, Wiek: 58, Ilu takich: 58013\n",
      "Jaki stan: Florida, Płeć: F, Wiek: 83, Ilu takich: 57062\n",
      "Jaki stan: Georgia, Płeć: F, Wiek: 61, Ilu takich: 56848\n",
      "Jaki stan: Georgia, Płeć: F, Wiek: 59, Ilu takich: 56400\n",
      "Jaki stan: Georgia, Płeć: F, Wiek: 60, Ilu takich: 55501\n",
      "Jaki stan: Florida, Płeć: F, Wiek: 84, Ilu takich: 52826\n",
      "Jaki stan: Georgia, Płeć: F, Wiek: 62, Ilu takich: 42949\n",
      "Jaki stan: Georgia, Płeć: F, Wiek: 63, Ilu takich: 42094\n",
      "Jaki stan: Georgia, Płeć: F, Wiek: 65, Ilu takich: 41673\n",
      "Jaki stan: Georgia, Płeć: F, Wiek: 64, Ilu takich: 41061\n",
      "Jaki stan: Georgia, Płeć: F, Wiek: 66, Ilu takich: 35989\n",
      "Jaki stan: Georgia, Płeć: F, Wiek: 67, Ilu takich: 33558\n",
      "Jaki stan: Georgia, Płeć: F, Wiek: 68, Ilu takich: 31984\n",
      "Jaki stan: Georgia, Płeć: F, Wiek: 69, Ilu takich: 29774\n",
      "Jaki stan: Georgia, Płeć: F, Wiek: 70, Ilu takich: 28407\n",
      "Jaki stan: Georgia, Płeć: F, Wiek: 71, Ilu takich: 26523\n",
      "Jaki stan: Georgia, Płeć: F, Wiek: 72, Ilu takich: 25730\n",
      "Jaki stan: Georgia, Płeć: F, Wiek: 73, Ilu takich: 25623\n",
      "Jaki stan: Georgia, Płeć: F, Wiek: 74, Ilu takich: 22911\n",
      "Jaki stan: Georgia, Płeć: F, Wiek: 75, Ilu takich: 22687\n",
      "Jaki stan: Georgia, Płeć: F, Wiek: 76, Ilu takich: 21788\n",
      "Jaki stan: Georgia, Płeć: F, Wiek: 77, Ilu takich: 20327\n",
      "Jaki stan: Georgia, Płeć: F, Wiek: 78, Ilu takich: 20254\n",
      "Jaki stan: Georgia, Płeć: F, Wiek: 79, Ilu takich: 19140\n",
      "Jaki stan: Georgia, Płeć: F, Wiek: 80, Ilu takich: 18321\n",
      "Jaki stan: Georgia, Płeć: F, Wiek: 81, Ilu takich: 17365\n",
      "Jaki stan: Georgia, Płeć: F, Wiek: 82, Ilu takich: 16435\n",
      "Jaki stan: Georgia, Płeć: F, Wiek: 83, Ilu takich: 15635\n",
      "Jaki stan: Georgia, Płeć: F, Wiek: 84, Ilu takich: 14282\n"
     ]
    }
   ],
   "source": [
    "for i in d:\n",
    "    print(f_sum['pop2008__sum']/a_sum['pop2008__sum'] * 100)"
   ]
  },
  {
   "cell_type": "code",
   "execution_count": 1,
   "id": "b4b53c93",
   "metadata": {},
   "outputs": [],
   "source": [
    "from census.models import Census"
   ]
  }
 ],
 "metadata": {
  "kernelspec": {
   "display_name": "Django Shell-Plus",
   "language": "python",
   "name": "django_extensions"
  },
  "language_info": {
   "codemirror_mode": {
    "name": "ipython",
    "version": 3
   },
   "file_extension": ".py",
   "mimetype": "text/x-python",
   "name": "python",
   "nbconvert_exporter": "python",
   "pygments_lexer": "ipython3",
   "version": "3.8.0"
  }
 },
 "nbformat": 4,
 "nbformat_minor": 5
}
