{
 "cells": [
  {
   "cell_type": "code",
   "execution_count": 22,
   "id": "d41b752f",
   "metadata": {
    "scrolled": true
   },
   "outputs": [],
   "source": [
    "c = Census.objects.filter(state=\"New York\").exclude(pop2000=True)"
   ]
  },
  {
   "cell_type": "code",
   "execution_count": 13,
   "id": "7555d78a",
   "metadata": {},
   "outputs": [
    {
     "name": "stdout",
     "output_type": "stream",
     "text": [
      "50.85521125388816\n"
     ]
    }
   ],
   "source": [
    "print(ile_kobiet['pop2008__sum']/ile_total['pop2008__sum'] * 100)"
   ]
  },
  {
   "cell_type": "code",
   "execution_count": 28,
   "id": "df763565",
   "metadata": {},
   "outputs": [
    {
     "ename": "NameError",
     "evalue": "name 'pop_2008' is not defined",
     "output_type": "error",
     "traceback": [
      "\u001b[0;31m---------------------------------------------------------------------------\u001b[0m",
      "\u001b[0;31mNameError\u001b[0m                                 Traceback (most recent call last)",
      "Input \u001b[0;32mIn [28]\u001b[0m, in \u001b[0;36m<cell line: 1>\u001b[0;34m()\u001b[0m\n\u001b[0;32m----> 1\u001b[0m \u001b[43mpop_2008\u001b[49m\u001b[38;5;241m.\u001b[39mget(\u001b[38;5;124m'\u001b[39m\u001b[38;5;124mpop2008__sum\u001b[39m\u001b[38;5;124m'\u001b[39m) \u001b[38;5;241m-\u001b[39m pop_2000\u001b[38;5;241m.\u001b[39mget(\u001b[38;5;124m'\u001b[39m\u001b[38;5;124mpop2000__sum\u001b[39m\u001b[38;5;124m'\u001b[39m)\n",
      "\u001b[0;31mNameError\u001b[0m: name 'pop_2008' is not defined"
     ]
    }
   ],
   "source": [
    "pop_2008.get('pop2008__sum') - pop_2000.get('pop2000__sum')"
   ]
  },
  {
   "cell_type": "code",
   "execution_count": 33,
   "id": "d3bfb3de",
   "metadata": {},
   "outputs": [],
   "source": [
    "res = Census.objects.filter(sex=\"M\", age=32).aggregate(Sum('pop2008'))"
   ]
  },
  {
   "cell_type": "code",
   "execution_count": 37,
   "id": "34e3487a",
   "metadata": {},
   "outputs": [
    {
     "data": {
      "text/plain": [
       "1929255"
      ]
     },
     "execution_count": 37,
     "metadata": {},
     "output_type": "execute_result"
    }
   ],
   "source": [
    "res['pop2008__sum']\n"
   ]
  },
  {
   "cell_type": "code",
   "execution_count": 25,
   "id": "4435136e",
   "metadata": {},
   "outputs": [],
   "source": [
    "roznica = ile_total_2008['pop2008__sum'] - ile_total_2000['pop2000__sum']"
   ]
  },
  {
   "cell_type": "code",
   "execution_count": 4,
   "id": "a8de1fe1",
   "metadata": {},
   "outputs": [],
   "source": [
    "from django.db.models import Sum"
   ]
  },
  {
   "cell_type": "code",
   "execution_count": 52,
   "id": "da1524d7",
   "metadata": {},
   "outputs": [],
   "source": [
    "age_32 = Census.objects.filter(sex=\"M\", age=\"32\").aggregate(Sum(\"pop2008\"))\n",
    "\n",
    "\n"
   ]
  },
  {
   "cell_type": "code",
   "execution_count": 53,
   "id": "fef010dd",
   "metadata": {},
   "outputs": [
    {
     "data": {
      "text/plain": [
       "{'pop2008__sum': 1929255}"
      ]
     },
     "execution_count": 53,
     "metadata": {},
     "output_type": "execute_result"
    }
   ],
   "source": [
    "age_32\n"
   ]
  },
  {
   "cell_type": "code",
   "execution_count": 48,
   "id": "388b0ead",
   "metadata": {},
   "outputs": [],
   "source": [
    "res = StateFact.objects.filter(census_region_name='West').update(notes='The Wild West')"
   ]
  },
  {
   "cell_type": "code",
   "execution_count": 49,
   "id": "b1816435",
   "metadata": {},
   "outputs": [
    {
     "name": "stdout",
     "output_type": "stream",
     "text": [
      "13\n"
     ]
    }
   ],
   "source": [
    "print(res)\n"
   ]
  },
  {
   "cell_type": "code",
   "execution_count": 42,
   "id": "923f66b6",
   "metadata": {},
   "outputs": [],
   "source": [
    "from census.models import StateFact"
   ]
  }
 ],
 "metadata": {
  "kernelspec": {
   "display_name": "Django Shell-Plus",
   "language": "python",
   "name": "django_extensions"
  },
  "language_info": {
   "codemirror_mode": {
    "name": "ipython",
    "version": 3
   },
   "file_extension": ".py",
   "mimetype": "text/x-python",
   "name": "python",
   "nbconvert_exporter": "python",
   "pygments_lexer": "ipython3",
   "version": "3.8.0"
  }
 },
 "nbformat": 4,
 "nbformat_minor": 5
}
